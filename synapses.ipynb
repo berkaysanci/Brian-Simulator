{
 "cells": [
  {
   "cell_type": "code",
   "execution_count": 1,
   "metadata": {},
   "outputs": [],
   "source": [
    "from brian2 import *\n",
    "%matplotlib inline"
   ]
  },
  {
   "cell_type": "code",
   "execution_count": null,
   "metadata": {},
   "outputs": [],
   "source": [
    "tau=10*ms\n",
    "\n",
    "eqs_1 = '''\n",
    "dv/dt = (1-v)/tau : 1\n",
    "'''\n",
    "eqs_2 = Equations('dv/dt = (((v+0.075)*(v+0.045))-u+0.6)/(150*tau):1 ')\n",
    "eqs_2 += Equations('du/dt = (0.01*(5*(v+0.075)-u))/tau:1 ')\n",
    "\n",
    "G_1 = NeuronGroup(1, eqs_1, threshold='v>0.8', reset='v = 0', method='exact')\n",
    "G_2 = NeuronGroup(1, eqs_2, threshold='v>-0.045', reset='v = -0.075', method='euler')\n",
    "G_2.v= -0.075\n",
    "\n",
    "\n",
    "w = 0.002\n",
    "S = Synapses(G_1, G_2, on_pre='v += w')\n",
    "S.connect()\n",
    "\n",
    "\n",
    "\n",
    "M = StateMonitor(G_1, 'v', record=True)  # all synapses originating from neuron 0\n",
    "\n",
    "run(50*ms)\n",
    "\n",
    "plot(M.t / ms, M.v)\n",
    "\n",
    "\n",
    "def visualise_connectivity(S):\n",
    "    Ns = len(S.source)\n",
    "    Nt = len(S.target)\n",
    "    figure(figsize=(10, 4))\n",
    "    subplot(121)\n",
    "    plot(zeros(Ns), arange(Ns), 'ok', ms=10)\n",
    "    plot(ones(Nt), arange(Nt), 'ok', ms=10)\n",
    "    for i, j in zip(S.i, S.j):\n",
    "        plot([0, 1], [i, j], '-k')\n",
    "    xticks([0, 1], ['Source', 'Target'])\n",
    "    ylabel('Neuron index')\n",
    "    xlim(-0.1, 1.1)\n",
    "    ylim(-1, max(Ns, Nt))\n",
    "    subplot(122)\n",
    "    plot(S.i, S.j, 'ok')\n",
    "    xlim(-1, Ns)\n",
    "    ylim(-1, Nt)\n",
    "    xlabel('Source neuron index')\n",
    "    ylabel('Target neuron index')\n",
    "\n",
    "visualise_connectivity(S)"
   ]
  }
 ],
 "metadata": {
  "kernelspec": {
   "display_name": "Python 3",
   "language": "python",
   "name": "python3"
  },
  "language_info": {
   "codemirror_mode": {
    "name": "ipython",
    "version": 3
   },
   "file_extension": ".py",
   "mimetype": "text/x-python",
   "name": "python",
   "nbconvert_exporter": "python",
   "pygments_lexer": "ipython3",
   "version": "3.11.1"
  },
  "orig_nbformat": 4,
  "vscode": {
   "interpreter": {
    "hash": "783b79f1d59695c5cea2fba31d19865c5303b3987924b92036e3b53328eb5179"
   }
  }
 },
 "nbformat": 4,
 "nbformat_minor": 2
}
